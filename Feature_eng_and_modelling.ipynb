{
 "cells": [
  {
   "cell_type": "markdown",
   "id": "badc96ec",
   "metadata": {},
   "source": [
    "# Feature Engineering\n",
    "- Drop Unwanted Features\n",
    "- Handle Missing values\n",
    "- Handle Categorical Features\n",
    "- Handle Feature Scaling\n",
    "- Remove Outliers"
   ]
  },
  {
   "cell_type": "markdown",
   "id": "dc2b174e",
   "metadata": {},
   "source": [
    "As per the Exploratory Data Analysis\n",
    "\n",
    "- No missing values are present\n",
    "- No features are found with only one value\n",
    "- There are Nine Categorical features\n",
    "- Credit default feature doesn't play any important role\n",
    "- There are few outliers present in Features (Age, Bank balance, Call duration,Previous campaign contact, Previous Outcome)"
   ]
  },
  {
   "cell_type": "code",
   "execution_count": 1,
   "id": "ca3f10bb",
   "metadata": {},
   "outputs": [],
   "source": [
    "import pandas as pd\n",
    "import numpy as np\n",
    "import matplotlib.pyplot as plt\n",
    "import seaborn as sns"
   ]
  },
  {
   "cell_type": "code",
   "execution_count": 42,
   "id": "275de3e9",
   "metadata": {},
   "outputs": [],
   "source": [
    "df = pd.read_csv(r\"C:\\Users\\amaan\\Desktop\\Datasets\\bank_data.csv\")\n",
    "df = df.drop(columns=['Unnamed: 0'])"
   ]
  },
  {
   "cell_type": "code",
   "execution_count": 43,
   "id": "879b52c9",
   "metadata": {},
   "outputs": [],
   "source": [
    "df2=df.copy()"
   ]
  },
  {
   "cell_type": "code",
   "execution_count": 44,
   "id": "c20a4e60",
   "metadata": {
    "scrolled": true
   },
   "outputs": [
    {
     "data": {
      "text/html": [
       "<div>\n",
       "<style scoped>\n",
       "    .dataframe tbody tr th:only-of-type {\n",
       "        vertical-align: middle;\n",
       "    }\n",
       "\n",
       "    .dataframe tbody tr th {\n",
       "        vertical-align: top;\n",
       "    }\n",
       "\n",
       "    .dataframe thead th {\n",
       "        text-align: right;\n",
       "    }\n",
       "</style>\n",
       "<table border=\"1\" class=\"dataframe\">\n",
       "  <thead>\n",
       "    <tr style=\"text-align: right;\">\n",
       "      <th></th>\n",
       "      <th>Age</th>\n",
       "      <th>Job</th>\n",
       "      <th>Marital</th>\n",
       "      <th>education</th>\n",
       "      <th>Credit_default</th>\n",
       "      <th>Bank_balance</th>\n",
       "      <th>Housing_loan</th>\n",
       "      <th>Personal_loan</th>\n",
       "      <th>Contact_type</th>\n",
       "      <th>Last_Contact_day</th>\n",
       "      <th>Last_contact_month</th>\n",
       "      <th>Call_Duration</th>\n",
       "      <th>Current_campaign_contact</th>\n",
       "      <th>Days_since_prev_contact</th>\n",
       "      <th>Prev_campaign_contacts</th>\n",
       "      <th>Prev_outcome</th>\n",
       "      <th>Term_deposit</th>\n",
       "    </tr>\n",
       "  </thead>\n",
       "  <tbody>\n",
       "    <tr>\n",
       "      <th>0</th>\n",
       "      <td>59</td>\n",
       "      <td>admin.</td>\n",
       "      <td>married</td>\n",
       "      <td>secondary</td>\n",
       "      <td>no</td>\n",
       "      <td>2343</td>\n",
       "      <td>yes</td>\n",
       "      <td>no</td>\n",
       "      <td>unknown</td>\n",
       "      <td>5</td>\n",
       "      <td>may</td>\n",
       "      <td>1042</td>\n",
       "      <td>1</td>\n",
       "      <td>-1</td>\n",
       "      <td>0</td>\n",
       "      <td>unknown</td>\n",
       "      <td>yes</td>\n",
       "    </tr>\n",
       "    <tr>\n",
       "      <th>1</th>\n",
       "      <td>56</td>\n",
       "      <td>admin.</td>\n",
       "      <td>married</td>\n",
       "      <td>secondary</td>\n",
       "      <td>no</td>\n",
       "      <td>45</td>\n",
       "      <td>no</td>\n",
       "      <td>no</td>\n",
       "      <td>unknown</td>\n",
       "      <td>5</td>\n",
       "      <td>may</td>\n",
       "      <td>1467</td>\n",
       "      <td>1</td>\n",
       "      <td>-1</td>\n",
       "      <td>0</td>\n",
       "      <td>unknown</td>\n",
       "      <td>yes</td>\n",
       "    </tr>\n",
       "    <tr>\n",
       "      <th>2</th>\n",
       "      <td>41</td>\n",
       "      <td>technician</td>\n",
       "      <td>married</td>\n",
       "      <td>secondary</td>\n",
       "      <td>no</td>\n",
       "      <td>1270</td>\n",
       "      <td>yes</td>\n",
       "      <td>no</td>\n",
       "      <td>unknown</td>\n",
       "      <td>5</td>\n",
       "      <td>may</td>\n",
       "      <td>1389</td>\n",
       "      <td>1</td>\n",
       "      <td>-1</td>\n",
       "      <td>0</td>\n",
       "      <td>unknown</td>\n",
       "      <td>yes</td>\n",
       "    </tr>\n",
       "    <tr>\n",
       "      <th>3</th>\n",
       "      <td>55</td>\n",
       "      <td>services</td>\n",
       "      <td>married</td>\n",
       "      <td>secondary</td>\n",
       "      <td>no</td>\n",
       "      <td>2476</td>\n",
       "      <td>yes</td>\n",
       "      <td>no</td>\n",
       "      <td>unknown</td>\n",
       "      <td>5</td>\n",
       "      <td>may</td>\n",
       "      <td>579</td>\n",
       "      <td>1</td>\n",
       "      <td>-1</td>\n",
       "      <td>0</td>\n",
       "      <td>unknown</td>\n",
       "      <td>yes</td>\n",
       "    </tr>\n",
       "    <tr>\n",
       "      <th>4</th>\n",
       "      <td>54</td>\n",
       "      <td>admin.</td>\n",
       "      <td>married</td>\n",
       "      <td>tertiary</td>\n",
       "      <td>no</td>\n",
       "      <td>184</td>\n",
       "      <td>no</td>\n",
       "      <td>no</td>\n",
       "      <td>unknown</td>\n",
       "      <td>5</td>\n",
       "      <td>may</td>\n",
       "      <td>673</td>\n",
       "      <td>2</td>\n",
       "      <td>-1</td>\n",
       "      <td>0</td>\n",
       "      <td>unknown</td>\n",
       "      <td>yes</td>\n",
       "    </tr>\n",
       "  </tbody>\n",
       "</table>\n",
       "</div>"
      ],
      "text/plain": [
       "   Age         Job  Marital  education Credit_default  Bank_balance  \\\n",
       "0   59      admin.  married  secondary             no          2343   \n",
       "1   56      admin.  married  secondary             no            45   \n",
       "2   41  technician  married  secondary             no          1270   \n",
       "3   55    services  married  secondary             no          2476   \n",
       "4   54      admin.  married   tertiary             no           184   \n",
       "\n",
       "  Housing_loan Personal_loan Contact_type  Last_Contact_day  \\\n",
       "0          yes            no      unknown                 5   \n",
       "1           no            no      unknown                 5   \n",
       "2          yes            no      unknown                 5   \n",
       "3          yes            no      unknown                 5   \n",
       "4           no            no      unknown                 5   \n",
       "\n",
       "  Last_contact_month  Call_Duration  Current_campaign_contact  \\\n",
       "0                may           1042                         1   \n",
       "1                may           1467                         1   \n",
       "2                may           1389                         1   \n",
       "3                may            579                         1   \n",
       "4                may            673                         2   \n",
       "\n",
       "   Days_since_prev_contact  Prev_campaign_contacts Prev_outcome Term_deposit  \n",
       "0                       -1                       0      unknown          yes  \n",
       "1                       -1                       0      unknown          yes  \n",
       "2                       -1                       0      unknown          yes  \n",
       "3                       -1                       0      unknown          yes  \n",
       "4                       -1                       0      unknown          yes  "
      ]
     },
     "execution_count": 44,
     "metadata": {},
     "output_type": "execute_result"
    }
   ],
   "source": [
    "df2.head()"
   ]
  },
  {
   "cell_type": "code",
   "execution_count": 45,
   "id": "3930732a",
   "metadata": {},
   "outputs": [
    {
     "data": {
      "text/plain": [
       "(11162, 17)"
      ]
     },
     "execution_count": 45,
     "metadata": {},
     "output_type": "execute_result"
    }
   ],
   "source": [
    "df2.shape"
   ]
  },
  {
   "cell_type": "code",
   "execution_count": 46,
   "id": "5d8fc8d4",
   "metadata": {},
   "outputs": [
    {
     "data": {
      "text/plain": [
       "Term_deposit  Credit_default\n",
       "no            no                5757\n",
       "              yes                116\n",
       "yes           no                5237\n",
       "              yes                 52\n",
       "dtype: int64"
      ]
     },
     "execution_count": 46,
     "metadata": {},
     "output_type": "execute_result"
    }
   ],
   "source": [
    "#defaut features does not play imp role\n",
    "df2.groupby(['Term_deposit','Credit_default']).size()"
   ]
  },
  {
   "cell_type": "code",
   "execution_count": 47,
   "id": "e7363373",
   "metadata": {},
   "outputs": [],
   "source": [
    "df2.drop(['Credit_default'],axis=1, inplace=True)"
   ]
  },
  {
   "cell_type": "code",
   "execution_count": 48,
   "id": "fa621d94",
   "metadata": {},
   "outputs": [
    {
     "data": {
      "text/plain": [
       "Term_deposit  Days_since_prev_contact\n",
       "no            -1                         4940\n",
       "               1                            2\n",
       "               2                            6\n",
       "               5                            2\n",
       "               6                            2\n",
       "                                         ... \n",
       "yes            804                          1\n",
       "               805                          1\n",
       "               828                          1\n",
       "               842                          1\n",
       "               854                          1\n",
       "Length: 732, dtype: int64"
      ]
     },
     "execution_count": 48,
     "metadata": {},
     "output_type": "execute_result"
    }
   ],
   "source": [
    "df2.groupby(['Term_deposit','Days_since_prev_contact']).size()"
   ]
  },
  {
   "cell_type": "code",
   "execution_count": 49,
   "id": "dfacef9d",
   "metadata": {},
   "outputs": [],
   "source": [
    "# drop pdays as it has -1 value for around 40%+ \n",
    "df2.drop(['Days_since_prev_contact'],axis=1, inplace=True)"
   ]
  },
  {
   "cell_type": "code",
   "execution_count": 50,
   "id": "d529552a",
   "metadata": {},
   "outputs": [
    {
     "data": {
      "text/plain": [
       "Age\n",
       "18     8\n",
       "19    13\n",
       "20    20\n",
       "21    30\n",
       "22    48\n",
       "      ..\n",
       "89     1\n",
       "90     2\n",
       "92     2\n",
       "93     2\n",
       "95     1\n",
       "Name: Age, Length: 76, dtype: int64"
      ]
     },
     "execution_count": 50,
     "metadata": {},
     "output_type": "execute_result"
    }
   ],
   "source": [
    "# remove outliers in feature age...\n",
    "df2.groupby('Age',sort=True)['Age'].count()\n",
    "# these can be ignored and values lies in between 18 to 95"
   ]
  },
  {
   "cell_type": "code",
   "execution_count": 51,
   "id": "a5223c46",
   "metadata": {},
   "outputs": [
    {
     "data": {
      "text/plain": [
       "Term_deposit  Bank_balance\n",
       "no            -6847           1\n",
       "              -2712           1\n",
       "              -2282           1\n",
       "              -2049           1\n",
       "              -1965           1\n",
       "                             ..\n",
       "yes            34646          1\n",
       "               36252          1\n",
       "               45248          1\n",
       "               52587          2\n",
       "               81204          2\n",
       "Name: Bank_balance, Length: 5082, dtype: int64"
      ]
     },
     "execution_count": 51,
     "metadata": {},
     "output_type": "execute_result"
    }
   ],
   "source": [
    "# remove outliers in feature balance...\n",
    "df2.groupby(['Term_deposit','Bank_balance'],sort=True)['Bank_balance'].count()\n",
    "# these outlier should not be remove as balance goes high, client show interest on deposit"
   ]
  },
  {
   "cell_type": "code",
   "execution_count": 52,
   "id": "1c542a0f",
   "metadata": {},
   "outputs": [
    {
     "data": {
      "text/plain": [
       "Term_deposit  Call_Duration\n",
       "no            2                1\n",
       "              3                1\n",
       "              4                2\n",
       "              5                4\n",
       "              6                6\n",
       "                              ..\n",
       "yes           3094             1\n",
       "              3102             1\n",
       "              3183             1\n",
       "              3253             1\n",
       "              3881             1\n",
       "Name: Call_Duration, Length: 2157, dtype: int64"
      ]
     },
     "execution_count": 52,
     "metadata": {},
     "output_type": "execute_result"
    }
   ],
   "source": [
    "# remove outliers in feature duration...\n",
    "df2.groupby(['Term_deposit','Call_Duration'],sort=True)['Call_Duration'].count()\n",
    "# these outlier should not be remove as duration goes high, client show interest on deposit"
   ]
  },
  {
   "cell_type": "code",
   "execution_count": 53,
   "id": "292bc4df",
   "metadata": {},
   "outputs": [
    {
     "data": {
      "text/plain": [
       "Term_deposit  Current_campaign_contact\n",
       "no            1                           2237\n",
       "              2                           1627\n",
       "              3                            703\n",
       "              4                            454\n",
       "              5                            239\n",
       "              6                            173\n",
       "              7                             92\n",
       "              8                             96\n",
       "              9                             51\n",
       "              10                            38\n",
       "              11                            24\n",
       "              12                            25\n",
       "              13                            24\n",
       "              14                            11\n",
       "              15                             9\n",
       "              16                             7\n",
       "              17                             8\n",
       "              18                             8\n",
       "              19                             5\n",
       "              20                             4\n",
       "              21                             7\n",
       "              22                             4\n",
       "              23                             3\n",
       "              24                             4\n",
       "              25                             3\n",
       "              26                             3\n",
       "              27                             1\n",
       "              28                             1\n",
       "              29                             1\n",
       "              30                             4\n",
       "              31                             1\n",
       "              32                             1\n",
       "              33                             1\n",
       "              41                             1\n",
       "              43                             2\n",
       "              63                             1\n",
       "yes           1                           2561\n",
       "              2                           1401\n",
       "              3                            618\n",
       "              4                            317\n",
       "              5                            139\n",
       "              6                             92\n",
       "              7                             47\n",
       "              8                             32\n",
       "              9                             21\n",
       "              10                            14\n",
       "              11                            16\n",
       "              12                             4\n",
       "              13                             6\n",
       "              14                             4\n",
       "              15                             4\n",
       "              16                             2\n",
       "              17                             6\n",
       "              20                             1\n",
       "              21                             1\n",
       "              24                             1\n",
       "              29                             1\n",
       "              32                             1\n",
       "Name: Current_campaign_contact, dtype: int64"
      ]
     },
     "execution_count": 53,
     "metadata": {},
     "output_type": "execute_result"
    }
   ],
   "source": [
    "# remove outliers in feature campaign...\n",
    "df2.groupby(['Term_deposit','Current_campaign_contact'],sort=True)['Current_campaign_contact'].count()"
   ]
  },
  {
   "cell_type": "code",
   "execution_count": 54,
   "id": "de5eb7de",
   "metadata": {},
   "outputs": [],
   "source": [
    "df3 = df2[df2['Current_campaign_contact'] < 33]"
   ]
  },
  {
   "cell_type": "code",
   "execution_count": 26,
   "id": "4b104d91",
   "metadata": {},
   "outputs": [
    {
     "data": {
      "text/plain": [
       "Term_deposit  Current_campaign_contact\n",
       "no            1                           2237\n",
       "              2                           1627\n",
       "              3                            703\n",
       "              4                            454\n",
       "              5                            239\n",
       "              6                            173\n",
       "              7                             92\n",
       "              8                             96\n",
       "              9                             51\n",
       "              10                            38\n",
       "              11                            24\n",
       "              12                            25\n",
       "              13                            24\n",
       "              14                            11\n",
       "              15                             9\n",
       "              16                             7\n",
       "              17                             8\n",
       "              18                             8\n",
       "              19                             5\n",
       "              20                             4\n",
       "              21                             7\n",
       "              22                             4\n",
       "              23                             3\n",
       "              24                             4\n",
       "              25                             3\n",
       "              26                             3\n",
       "              27                             1\n",
       "              28                             1\n",
       "              29                             1\n",
       "              30                             4\n",
       "              31                             1\n",
       "              32                             1\n",
       "yes           1                           2561\n",
       "              2                           1401\n",
       "              3                            618\n",
       "              4                            317\n",
       "              5                            139\n",
       "              6                             92\n",
       "              7                             47\n",
       "              8                             32\n",
       "              9                             21\n",
       "              10                            14\n",
       "              11                            16\n",
       "              12                             4\n",
       "              13                             6\n",
       "              14                             4\n",
       "              15                             4\n",
       "              16                             2\n",
       "              17                             6\n",
       "              20                             1\n",
       "              21                             1\n",
       "              24                             1\n",
       "              29                             1\n",
       "              32                             1\n",
       "Name: Current_campaign_contact, dtype: int64"
      ]
     },
     "execution_count": 26,
     "metadata": {},
     "output_type": "execute_result"
    }
   ],
   "source": [
    "df3.groupby(['Term_deposit','Current_campaign_contact'],sort=True)['Current_campaign_contact'].count()"
   ]
  },
  {
   "cell_type": "code",
   "execution_count": 56,
   "id": "481c3e29",
   "metadata": {},
   "outputs": [
    {
     "name": "stdout",
     "output_type": "stream",
     "text": [
      "Index(['Age', 'Job', 'Marital', 'education', 'Bank_balance', 'Housing_loan',\n",
      "       'Personal_loan', 'Contact_type', 'Last_Contact_day',\n",
      "       'Last_contact_month', 'Call_Duration', 'Current_campaign_contact',\n",
      "       'Prev_campaign_contacts', 'Prev_outcome', 'Term_deposit'],\n",
      "      dtype='object')\n"
     ]
    }
   ],
   "source": [
    "print(df3.columns)\n"
   ]
  },
  {
   "cell_type": "code",
   "execution_count": 27,
   "id": "66b63130",
   "metadata": {},
   "outputs": [
    {
     "data": {
      "text/plain": [
       "Term_deposit  Prev_campaign_contacts\n",
       "no            0                         4935\n",
       "              1                          304\n",
       "              2                          237\n",
       "              3                          141\n",
       "              4                           73\n",
       "              5                           44\n",
       "              6                           34\n",
       "              7                           23\n",
       "              8                           21\n",
       "              9                           10\n",
       "              10                           4\n",
       "              11                           8\n",
       "              12                           6\n",
       "              13                           2\n",
       "              14                           1\n",
       "              15                           4\n",
       "              16                           2\n",
       "              17                           8\n",
       "              18                           1\n",
       "              19                           2\n",
       "              20                           1\n",
       "              23                           1\n",
       "              27                           2\n",
       "              28                           1\n",
       "              37                           1\n",
       "              40                           1\n",
       "              41                           1\n",
       "yes           0                         3384\n",
       "              1                          583\n",
       "              2                          456\n",
       "              3                          294\n",
       "              4                          171\n",
       "              5                          121\n",
       "              6                           83\n",
       "              7                           54\n",
       "              8                           39\n",
       "              9                           24\n",
       "              10                          26\n",
       "              11                          15\n",
       "              12                          10\n",
       "              13                           9\n",
       "              14                           5\n",
       "              15                           1\n",
       "              17                           3\n",
       "              19                           2\n",
       "              20                           1\n",
       "              21                           1\n",
       "              22                           1\n",
       "              23                           1\n",
       "              26                           1\n",
       "              29                           1\n",
       "              30                           1\n",
       "              55                           1\n",
       "              58                           1\n",
       "Name: Prev_campaign_contacts, dtype: int64"
      ]
     },
     "execution_count": 27,
     "metadata": {},
     "output_type": "execute_result"
    }
   ],
   "source": [
    "# remove outliers in feature previous...\n",
    "df3.groupby(['Term_deposit','Prev_campaign_contacts'],sort=True)['Prev_campaign_contacts'].count()"
   ]
  },
  {
   "cell_type": "code",
   "execution_count": 57,
   "id": "d52a372b",
   "metadata": {},
   "outputs": [],
   "source": [
    "df4 = df3[df3['Prev_campaign_contacts'] < 33]"
   ]
  },
  {
   "cell_type": "code",
   "execution_count": 58,
   "id": "63710b21",
   "metadata": {},
   "outputs": [
    {
     "name": "stdout",
     "output_type": "stream",
     "text": [
      "Index(['Age', 'Job', 'Marital', 'education', 'Bank_balance', 'Housing_loan',\n",
      "       'Personal_loan', 'Contact_type', 'Last_Contact_day',\n",
      "       'Last_contact_month', 'Call_Duration', 'Current_campaign_contact',\n",
      "       'Prev_campaign_contacts', 'Prev_outcome', 'Term_deposit'],\n",
      "      dtype='object')\n"
     ]
    }
   ],
   "source": [
    "print(df4.columns)\n"
   ]
  },
  {
   "cell_type": "code",
   "execution_count": 59,
   "id": "99bad73e",
   "metadata": {},
   "outputs": [],
   "source": [
    "cat_columns = ['Job', 'Marital', 'education', 'Contact_type', 'Last_contact_month', 'Prev_outcome']\n",
    "for col in  cat_columns:\n",
    "    df4 = pd.concat([df4.drop(col, axis=1),pd.get_dummies(df4[col], prefix=col, prefix_sep='_',drop_first=True, dummy_na=False)], axis=1)"
   ]
  },
  {
   "cell_type": "code",
   "execution_count": 61,
   "id": "df8098c9",
   "metadata": {},
   "outputs": [],
   "source": [
    "bool_columns = ['Housing_loan', 'Personal_loan', 'Term_deposit']\n",
    "for col in  bool_columns:\n",
    "    df4[col+'_new']=df4[col].apply(lambda x : 1 if x == 'yes' else 0)\n",
    "    df4.drop(col, axis=1, inplace=True)"
   ]
  },
  {
   "cell_type": "code",
   "execution_count": 62,
   "id": "4fe8ac4b",
   "metadata": {},
   "outputs": [
    {
     "data": {
      "text/html": [
       "<div>\n",
       "<style scoped>\n",
       "    .dataframe tbody tr th:only-of-type {\n",
       "        vertical-align: middle;\n",
       "    }\n",
       "\n",
       "    .dataframe tbody tr th {\n",
       "        vertical-align: top;\n",
       "    }\n",
       "\n",
       "    .dataframe thead th {\n",
       "        text-align: right;\n",
       "    }\n",
       "</style>\n",
       "<table border=\"1\" class=\"dataframe\">\n",
       "  <thead>\n",
       "    <tr style=\"text-align: right;\">\n",
       "      <th></th>\n",
       "      <th>Age</th>\n",
       "      <th>Bank_balance</th>\n",
       "      <th>Last_Contact_day</th>\n",
       "      <th>Call_Duration</th>\n",
       "      <th>Current_campaign_contact</th>\n",
       "      <th>Prev_campaign_contacts</th>\n",
       "      <th>Job_blue-collar</th>\n",
       "      <th>Job_entrepreneur</th>\n",
       "      <th>Job_housemaid</th>\n",
       "      <th>Job_management</th>\n",
       "      <th>...</th>\n",
       "      <th>Last_contact_month_may</th>\n",
       "      <th>Last_contact_month_nov</th>\n",
       "      <th>Last_contact_month_oct</th>\n",
       "      <th>Last_contact_month_sep</th>\n",
       "      <th>Prev_outcome_other</th>\n",
       "      <th>Prev_outcome_success</th>\n",
       "      <th>Prev_outcome_unknown</th>\n",
       "      <th>Housing_loan_new</th>\n",
       "      <th>Personal_loan_new</th>\n",
       "      <th>Term_deposit_new</th>\n",
       "    </tr>\n",
       "  </thead>\n",
       "  <tbody>\n",
       "    <tr>\n",
       "      <th>0</th>\n",
       "      <td>59</td>\n",
       "      <td>2343</td>\n",
       "      <td>5</td>\n",
       "      <td>1042</td>\n",
       "      <td>1</td>\n",
       "      <td>0</td>\n",
       "      <td>0</td>\n",
       "      <td>0</td>\n",
       "      <td>0</td>\n",
       "      <td>0</td>\n",
       "      <td>...</td>\n",
       "      <td>1</td>\n",
       "      <td>0</td>\n",
       "      <td>0</td>\n",
       "      <td>0</td>\n",
       "      <td>0</td>\n",
       "      <td>0</td>\n",
       "      <td>1</td>\n",
       "      <td>1</td>\n",
       "      <td>0</td>\n",
       "      <td>1</td>\n",
       "    </tr>\n",
       "    <tr>\n",
       "      <th>1</th>\n",
       "      <td>56</td>\n",
       "      <td>45</td>\n",
       "      <td>5</td>\n",
       "      <td>1467</td>\n",
       "      <td>1</td>\n",
       "      <td>0</td>\n",
       "      <td>0</td>\n",
       "      <td>0</td>\n",
       "      <td>0</td>\n",
       "      <td>0</td>\n",
       "      <td>...</td>\n",
       "      <td>1</td>\n",
       "      <td>0</td>\n",
       "      <td>0</td>\n",
       "      <td>0</td>\n",
       "      <td>0</td>\n",
       "      <td>0</td>\n",
       "      <td>1</td>\n",
       "      <td>0</td>\n",
       "      <td>0</td>\n",
       "      <td>1</td>\n",
       "    </tr>\n",
       "    <tr>\n",
       "      <th>2</th>\n",
       "      <td>41</td>\n",
       "      <td>1270</td>\n",
       "      <td>5</td>\n",
       "      <td>1389</td>\n",
       "      <td>1</td>\n",
       "      <td>0</td>\n",
       "      <td>0</td>\n",
       "      <td>0</td>\n",
       "      <td>0</td>\n",
       "      <td>0</td>\n",
       "      <td>...</td>\n",
       "      <td>1</td>\n",
       "      <td>0</td>\n",
       "      <td>0</td>\n",
       "      <td>0</td>\n",
       "      <td>0</td>\n",
       "      <td>0</td>\n",
       "      <td>1</td>\n",
       "      <td>1</td>\n",
       "      <td>0</td>\n",
       "      <td>1</td>\n",
       "    </tr>\n",
       "    <tr>\n",
       "      <th>3</th>\n",
       "      <td>55</td>\n",
       "      <td>2476</td>\n",
       "      <td>5</td>\n",
       "      <td>579</td>\n",
       "      <td>1</td>\n",
       "      <td>0</td>\n",
       "      <td>0</td>\n",
       "      <td>0</td>\n",
       "      <td>0</td>\n",
       "      <td>0</td>\n",
       "      <td>...</td>\n",
       "      <td>1</td>\n",
       "      <td>0</td>\n",
       "      <td>0</td>\n",
       "      <td>0</td>\n",
       "      <td>0</td>\n",
       "      <td>0</td>\n",
       "      <td>1</td>\n",
       "      <td>1</td>\n",
       "      <td>0</td>\n",
       "      <td>1</td>\n",
       "    </tr>\n",
       "    <tr>\n",
       "      <th>4</th>\n",
       "      <td>54</td>\n",
       "      <td>184</td>\n",
       "      <td>5</td>\n",
       "      <td>673</td>\n",
       "      <td>2</td>\n",
       "      <td>0</td>\n",
       "      <td>0</td>\n",
       "      <td>0</td>\n",
       "      <td>0</td>\n",
       "      <td>0</td>\n",
       "      <td>...</td>\n",
       "      <td>1</td>\n",
       "      <td>0</td>\n",
       "      <td>0</td>\n",
       "      <td>0</td>\n",
       "      <td>0</td>\n",
       "      <td>0</td>\n",
       "      <td>1</td>\n",
       "      <td>0</td>\n",
       "      <td>0</td>\n",
       "      <td>1</td>\n",
       "    </tr>\n",
       "  </tbody>\n",
       "</table>\n",
       "<p>5 rows × 41 columns</p>\n",
       "</div>"
      ],
      "text/plain": [
       "   Age  Bank_balance  Last_Contact_day  Call_Duration  \\\n",
       "0   59          2343                 5           1042   \n",
       "1   56            45                 5           1467   \n",
       "2   41          1270                 5           1389   \n",
       "3   55          2476                 5            579   \n",
       "4   54           184                 5            673   \n",
       "\n",
       "   Current_campaign_contact  Prev_campaign_contacts  Job_blue-collar  \\\n",
       "0                         1                       0                0   \n",
       "1                         1                       0                0   \n",
       "2                         1                       0                0   \n",
       "3                         1                       0                0   \n",
       "4                         2                       0                0   \n",
       "\n",
       "   Job_entrepreneur  Job_housemaid  Job_management  ...  \\\n",
       "0                 0              0               0  ...   \n",
       "1                 0              0               0  ...   \n",
       "2                 0              0               0  ...   \n",
       "3                 0              0               0  ...   \n",
       "4                 0              0               0  ...   \n",
       "\n",
       "   Last_contact_month_may  Last_contact_month_nov  Last_contact_month_oct  \\\n",
       "0                       1                       0                       0   \n",
       "1                       1                       0                       0   \n",
       "2                       1                       0                       0   \n",
       "3                       1                       0                       0   \n",
       "4                       1                       0                       0   \n",
       "\n",
       "   Last_contact_month_sep  Prev_outcome_other  Prev_outcome_success  \\\n",
       "0                       0                   0                     0   \n",
       "1                       0                   0                     0   \n",
       "2                       0                   0                     0   \n",
       "3                       0                   0                     0   \n",
       "4                       0                   0                     0   \n",
       "\n",
       "   Prev_outcome_unknown  Housing_loan_new  Personal_loan_new  Term_deposit_new  \n",
       "0                     1                 1                  0                 1  \n",
       "1                     1                 0                  0                 1  \n",
       "2                     1                 1                  0                 1  \n",
       "3                     1                 1                  0                 1  \n",
       "4                     1                 0                  0                 1  \n",
       "\n",
       "[5 rows x 41 columns]"
      ]
     },
     "execution_count": 62,
     "metadata": {},
     "output_type": "execute_result"
    }
   ],
   "source": [
    "df4.head()"
   ]
  },
  {
   "cell_type": "markdown",
   "id": "8b984277",
   "metadata": {},
   "source": [
    "# Split Dataset into Training set and Test set"
   ]
  },
  {
   "cell_type": "code",
   "execution_count": 64,
   "id": "37856f3c",
   "metadata": {},
   "outputs": [],
   "source": [
    "X = df4.drop(['Term_deposit_new'],axis=1)\n",
    "y = df4['Term_deposit_new']\n",
    "from sklearn.model_selection import train_test_split\n",
    "X_train, X_test, y_train, y_test = train_test_split(X,y,test_size=0.2, random_state=0)"
   ]
  },
  {
   "cell_type": "code",
   "execution_count": 65,
   "id": "9f1a2d40",
   "metadata": {},
   "outputs": [
    {
     "data": {
      "text/plain": [
       "8921"
      ]
     },
     "execution_count": 65,
     "metadata": {},
     "output_type": "execute_result"
    }
   ],
   "source": [
    "len(X_train)"
   ]
  },
  {
   "cell_type": "code",
   "execution_count": 66,
   "id": "bde0ca58",
   "metadata": {},
   "outputs": [
    {
     "data": {
      "text/plain": [
       "2231"
      ]
     },
     "execution_count": 66,
     "metadata": {},
     "output_type": "execute_result"
    }
   ],
   "source": [
    "len(X_test)"
   ]
  },
  {
   "cell_type": "markdown",
   "id": "30a21af9",
   "metadata": {},
   "source": [
    "# Model Selection"
   ]
  },
  {
   "cell_type": "code",
   "execution_count": 71,
   "id": "e3d33241",
   "metadata": {},
   "outputs": [],
   "source": [
    "# will try to use below two models that are RandomForestClassifier and XGBClassifier\n",
    "from sklearn.ensemble import RandomForestClassifier\n",
    "import xgboost\n",
    "from xgboost import XGBClassifier\n",
    "from sklearn.model_selection import GridSearchCV"
   ]
  },
  {
   "cell_type": "code",
   "execution_count": 72,
   "id": "ca17c7b2",
   "metadata": {},
   "outputs": [
    {
     "name": "stdout",
     "output_type": "stream",
     "text": [
      "[0.85602241 0.84641256 0.84192825 0.85257848 0.86042601]\n",
      "0.8514735400886811\n"
     ]
    }
   ],
   "source": [
    "from sklearn.model_selection import cross_val_score\n",
    "model_score =cross_val_score(estimator=RandomForestClassifier(),X=X_train, y=y_train, cv=5)\n",
    "print(model_score)\n",
    "print(model_score.mean())"
   ]
  },
  {
   "cell_type": "code",
   "execution_count": 73,
   "id": "9b429d70",
   "metadata": {},
   "outputs": [
    {
     "name": "stdout",
     "output_type": "stream",
     "text": [
      "[0.85658263 0.85762332 0.85313901 0.85650224 0.86154709]\n",
      "0.8570788584492093\n"
     ]
    }
   ],
   "source": [
    "from sklearn.model_selection import cross_val_score\n",
    "model_score =cross_val_score(estimator=XGBClassifier(),X=X_train, y=y_train, cv=5)\n",
    "print(model_score)\n",
    "print(model_score.mean())"
   ]
  },
  {
   "cell_type": "markdown",
   "id": "2274bf05",
   "metadata": {},
   "source": [
    "# Model Building"
   ]
  },
  {
   "cell_type": "code",
   "execution_count": 76,
   "id": "c7f43e69",
   "metadata": {},
   "outputs": [],
   "source": [
    "#as per above results, xgboost gives best result and hence selecting same to model building...\n",
    "model_xgb = XGBClassifier(objective='binary:logistic',learning_rate=0.1,max_depth=10,n_estimators=100)"
   ]
  },
  {
   "cell_type": "code",
   "execution_count": 77,
   "id": "d270e119",
   "metadata": {},
   "outputs": [
    {
     "data": {
      "text/html": [
       "<style>#sk-container-id-1 {color: black;background-color: white;}#sk-container-id-1 pre{padding: 0;}#sk-container-id-1 div.sk-toggleable {background-color: white;}#sk-container-id-1 label.sk-toggleable__label {cursor: pointer;display: block;width: 100%;margin-bottom: 0;padding: 0.3em;box-sizing: border-box;text-align: center;}#sk-container-id-1 label.sk-toggleable__label-arrow:before {content: \"▸\";float: left;margin-right: 0.25em;color: #696969;}#sk-container-id-1 label.sk-toggleable__label-arrow:hover:before {color: black;}#sk-container-id-1 div.sk-estimator:hover label.sk-toggleable__label-arrow:before {color: black;}#sk-container-id-1 div.sk-toggleable__content {max-height: 0;max-width: 0;overflow: hidden;text-align: left;background-color: #f0f8ff;}#sk-container-id-1 div.sk-toggleable__content pre {margin: 0.2em;color: black;border-radius: 0.25em;background-color: #f0f8ff;}#sk-container-id-1 input.sk-toggleable__control:checked~div.sk-toggleable__content {max-height: 200px;max-width: 100%;overflow: auto;}#sk-container-id-1 input.sk-toggleable__control:checked~label.sk-toggleable__label-arrow:before {content: \"▾\";}#sk-container-id-1 div.sk-estimator input.sk-toggleable__control:checked~label.sk-toggleable__label {background-color: #d4ebff;}#sk-container-id-1 div.sk-label input.sk-toggleable__control:checked~label.sk-toggleable__label {background-color: #d4ebff;}#sk-container-id-1 input.sk-hidden--visually {border: 0;clip: rect(1px 1px 1px 1px);clip: rect(1px, 1px, 1px, 1px);height: 1px;margin: -1px;overflow: hidden;padding: 0;position: absolute;width: 1px;}#sk-container-id-1 div.sk-estimator {font-family: monospace;background-color: #f0f8ff;border: 1px dotted black;border-radius: 0.25em;box-sizing: border-box;margin-bottom: 0.5em;}#sk-container-id-1 div.sk-estimator:hover {background-color: #d4ebff;}#sk-container-id-1 div.sk-parallel-item::after {content: \"\";width: 100%;border-bottom: 1px solid gray;flex-grow: 1;}#sk-container-id-1 div.sk-label:hover label.sk-toggleable__label {background-color: #d4ebff;}#sk-container-id-1 div.sk-serial::before {content: \"\";position: absolute;border-left: 1px solid gray;box-sizing: border-box;top: 0;bottom: 0;left: 50%;z-index: 0;}#sk-container-id-1 div.sk-serial {display: flex;flex-direction: column;align-items: center;background-color: white;padding-right: 0.2em;padding-left: 0.2em;position: relative;}#sk-container-id-1 div.sk-item {position: relative;z-index: 1;}#sk-container-id-1 div.sk-parallel {display: flex;align-items: stretch;justify-content: center;background-color: white;position: relative;}#sk-container-id-1 div.sk-item::before, #sk-container-id-1 div.sk-parallel-item::before {content: \"\";position: absolute;border-left: 1px solid gray;box-sizing: border-box;top: 0;bottom: 0;left: 50%;z-index: -1;}#sk-container-id-1 div.sk-parallel-item {display: flex;flex-direction: column;z-index: 1;position: relative;background-color: white;}#sk-container-id-1 div.sk-parallel-item:first-child::after {align-self: flex-end;width: 50%;}#sk-container-id-1 div.sk-parallel-item:last-child::after {align-self: flex-start;width: 50%;}#sk-container-id-1 div.sk-parallel-item:only-child::after {width: 0;}#sk-container-id-1 div.sk-dashed-wrapped {border: 1px dashed gray;margin: 0 0.4em 0.5em 0.4em;box-sizing: border-box;padding-bottom: 0.4em;background-color: white;}#sk-container-id-1 div.sk-label label {font-family: monospace;font-weight: bold;display: inline-block;line-height: 1.2em;}#sk-container-id-1 div.sk-label-container {text-align: center;}#sk-container-id-1 div.sk-container {/* jupyter's `normalize.less` sets `[hidden] { display: none; }` but bootstrap.min.css set `[hidden] { display: none !important; }` so we also need the `!important` here to be able to override the default hidden behavior on the sphinx rendered scikit-learn.org. See: https://github.com/scikit-learn/scikit-learn/issues/21755 */display: inline-block !important;position: relative;}#sk-container-id-1 div.sk-text-repr-fallback {display: none;}</style><div id=\"sk-container-id-1\" class=\"sk-top-container\"><div class=\"sk-text-repr-fallback\"><pre>XGBClassifier(base_score=None, booster=None, callbacks=None,\n",
       "              colsample_bylevel=None, colsample_bynode=None,\n",
       "              colsample_bytree=None, device=None, early_stopping_rounds=None,\n",
       "              enable_categorical=False, eval_metric=None, feature_types=None,\n",
       "              gamma=None, grow_policy=None, importance_type=None,\n",
       "              interaction_constraints=None, learning_rate=0.1, max_bin=None,\n",
       "              max_cat_threshold=None, max_cat_to_onehot=None,\n",
       "              max_delta_step=None, max_depth=10, max_leaves=None,\n",
       "              min_child_weight=None, missing=nan, monotone_constraints=None,\n",
       "              multi_strategy=None, n_estimators=100, n_jobs=None,\n",
       "              num_parallel_tree=None, random_state=None, ...)</pre><b>In a Jupyter environment, please rerun this cell to show the HTML representation or trust the notebook. <br />On GitHub, the HTML representation is unable to render, please try loading this page with nbviewer.org.</b></div><div class=\"sk-container\" hidden><div class=\"sk-item\"><div class=\"sk-estimator sk-toggleable\"><input class=\"sk-toggleable__control sk-hidden--visually\" id=\"sk-estimator-id-1\" type=\"checkbox\" checked><label for=\"sk-estimator-id-1\" class=\"sk-toggleable__label sk-toggleable__label-arrow\">XGBClassifier</label><div class=\"sk-toggleable__content\"><pre>XGBClassifier(base_score=None, booster=None, callbacks=None,\n",
       "              colsample_bylevel=None, colsample_bynode=None,\n",
       "              colsample_bytree=None, device=None, early_stopping_rounds=None,\n",
       "              enable_categorical=False, eval_metric=None, feature_types=None,\n",
       "              gamma=None, grow_policy=None, importance_type=None,\n",
       "              interaction_constraints=None, learning_rate=0.1, max_bin=None,\n",
       "              max_cat_threshold=None, max_cat_to_onehot=None,\n",
       "              max_delta_step=None, max_depth=10, max_leaves=None,\n",
       "              min_child_weight=None, missing=nan, monotone_constraints=None,\n",
       "              multi_strategy=None, n_estimators=100, n_jobs=None,\n",
       "              num_parallel_tree=None, random_state=None, ...)</pre></div></div></div></div></div>"
      ],
      "text/plain": [
       "XGBClassifier(base_score=None, booster=None, callbacks=None,\n",
       "              colsample_bylevel=None, colsample_bynode=None,\n",
       "              colsample_bytree=None, device=None, early_stopping_rounds=None,\n",
       "              enable_categorical=False, eval_metric=None, feature_types=None,\n",
       "              gamma=None, grow_policy=None, importance_type=None,\n",
       "              interaction_constraints=None, learning_rate=0.1, max_bin=None,\n",
       "              max_cat_threshold=None, max_cat_to_onehot=None,\n",
       "              max_delta_step=None, max_depth=10, max_leaves=None,\n",
       "              min_child_weight=None, missing=nan, monotone_constraints=None,\n",
       "              multi_strategy=None, n_estimators=100, n_jobs=None,\n",
       "              num_parallel_tree=None, random_state=None, ...)"
      ]
     },
     "execution_count": 77,
     "metadata": {},
     "output_type": "execute_result"
    }
   ],
   "source": [
    "model_xgb.fit(X_train,y_train)"
   ]
  },
  {
   "cell_type": "code",
   "execution_count": 78,
   "id": "1b66a926",
   "metadata": {},
   "outputs": [
    {
     "data": {
      "text/plain": [
       "0.8565665620797849"
      ]
     },
     "execution_count": 78,
     "metadata": {},
     "output_type": "execute_result"
    }
   ],
   "source": [
    "model_xgb.score(X_test,y_test)"
   ]
  },
  {
   "cell_type": "code",
   "execution_count": 79,
   "id": "5458209e",
   "metadata": {},
   "outputs": [
    {
     "data": {
      "image/png": "[encoded data removed]",
      "text/plain": [
       "<Figure size 1500x700 with 1 Axes>"
      ]
     },
     "metadata": {},
     "output_type": "display_data"
    }
   ],
   "source": [
    "#get feature importances from the model\n",
    "headers = [\"name\", \"score\"]\n",
    "values = sorted(zip(X_train.columns, model_xgb.feature_importances_), key=lambda x: x[1] * -1)\n",
    "xgb_feature_importances = pd.DataFrame(values, columns = headers)\n",
    "\n",
    "#plot feature importances\n",
    "fig = plt.figure(figsize=(15,7))\n",
    "x_pos = np.arange(0, len(xgb_feature_importances))\n",
    "plt.bar(x_pos, xgb_feature_importances['score'])\n",
    "plt.xticks(x_pos, xgb_feature_importances['name'])\n",
    "plt.xticks(rotation=90)\n",
    "plt.title('Feature importances (XGB)')\n",
    "\n",
    "plt.show()"
   ]
  },
  {
   "cell_type": "code",
   "execution_count": 80,
   "id": "f064c0e0",
   "metadata": {},
   "outputs": [
    {
     "data": {
      "text/plain": [
       "array([[989, 190],\n",
       "       [130, 922]], dtype=int64)"
      ]
     },
     "execution_count": 80,
     "metadata": {},
     "output_type": "execute_result"
    }
   ],
   "source": [
    "#Confusion Matrix\n",
    "from sklearn.metrics import confusion_matrix\n",
    "cm = confusion_matrix(y_test,model_xgb.predict(X_test))\n",
    "cm"
   ]
  },
  {
   "cell_type": "code",
   "execution_count": 82,
   "id": "8098f836",
   "metadata": {},
   "outputs": [
    {
     "name": "stdout",
     "output_type": "stream",
     "text": [
      "Accuracy: 0.8566\n"
     ]
    }
   ],
   "source": [
    "#Accuracy Rate\n",
    "from sklearn.metrics import accuracy_score\n",
    "accuracy = accuracy_score(y_test, model_xgb.predict(X_test))\n",
    "print(f'Accuracy: {accuracy:.4f}')\n"
   ]
  },
  {
   "cell_type": "code",
   "execution_count": 81,
   "id": "1117dd89",
   "metadata": {},
   "outputs": [
    {
     "data": {
      "image/png": "[encoded data removed]",
      "text/plain": [
       "<Figure size 640x480 with 2 Axes>"
      ]
     },
     "metadata": {},
     "output_type": "display_data"
    }
   ],
   "source": [
    "#plot the graph\n",
    "from matplotlib import pyplot as plt\n",
    "import seaborn as sn\n",
    "sn.heatmap(cm, annot=True)\n",
    "plt.xlabel('Predicted')\n",
    "plt.ylabel('True Value')\n",
    "plt.show()"
   ]
  }
 ],
 "metadata": {
  "kernelspec": {
   "display_name": "Python 3 (ipykernel)",
   "language": "python",
   "name": "python3"
  },
  "language_info": {
   "codemirror_mode": {
    "name": "ipython",
    "version": 3
   },
   "file_extension": ".py",
   "mimetype": "text/x-python",
   "name": "python",
   "nbconvert_exporter": "python",
   "pygments_lexer": "ipython3",
   "version": "3.10.9"
  }
 },
 "nbformat": 4,
 "nbformat_minor": 5
}
